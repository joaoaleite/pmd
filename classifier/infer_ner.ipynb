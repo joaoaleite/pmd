{
 "cells": [
  {
   "cell_type": "code",
   "execution_count": null,
   "metadata": {},
   "outputs": [],
   "source": [
    "import spacy\n",
    "from spacy import util\n",
    "import pandas as pd\n",
    "import os\n",
    "import json\n",
    "from dotenv import load_dotenv"
   ]
  },
  {
   "cell_type": "code",
   "execution_count": null,
   "metadata": {},
   "outputs": [],
   "source": [
    "load_dotenv()\n",
    "\n",
    "# Environment variables\n",
    "cuda_order = os.getenv(\"CUDA_DEVICE_ORDER\")\n",
    "cuda_device = os.getenv(\"CUDA_DEVICE_NUM\")\n",
    "\n",
    "os.environ[\"CUDA_DEVICE_ORDER\"], os.environ[\"CUDA_VISIBLE_DEVICES\"] = (\n",
    "    cuda_order,\n",
    "    cuda_device,\n",
    ")"
   ]
  },
  {
   "cell_type": "code",
   "execution_count": null,
   "metadata": {},
   "outputs": [],
   "source": [
    "spacy.prefer_gpu()"
   ]
  },
  {
   "cell_type": "code",
   "execution_count": null,
   "metadata": {},
   "outputs": [],
   "source": [
    "class EntityExtractor:\n",
    "    def __init__(self):\n",
    "        self.nlp = spacy.load(\"en_core_web_trf\")\n",
    "\n",
    "    def extract_entities(self, df, text_column=\"text\", entities_column=\"entities\"):\n",
    "        df[entities_column] = df[text_column].apply(self._get_entities)\n",
    "        return df\n",
    "\n",
    "    def _get_entities(self, text):\n",
    "        doc = self.nlp(text)\n",
    "        entities = [{\"text\": ent.text, \"label\": ent.label_} for ent in doc.ents]\n",
    "        return entities\n"
   ]
  },
  {
   "cell_type": "code",
   "execution_count": null,
   "metadata": {},
   "outputs": [],
   "source": [
    "extractor = EntityExtractor()"
   ]
  },
  {
   "cell_type": "code",
   "execution_count": null,
   "metadata": {},
   "outputs": [],
   "source": [
    "for dataset in [\"cidii\", \"climate_fever\", \"covid\", \"euvsdisinfo\"]:\n",
    "    print(\"Extracting NEs for\", dataset)\n",
    "    dataset_df = pd.read_csv(f\"../datasets/processed/{dataset}.csv\")\n",
    "    dataset_df = extractor.extract_entities(dataset_df)\n",
    "    dataset_df[\"entities\"] = dataset_df[\"entities\"].apply(lambda x: json.dumps(x, ensure_ascii=False))\n",
    "    dataset_df.to_csv(f\"../datasets/processed/{dataset}.csv\", index=False)"
   ]
  }
 ],
 "metadata": {
  "kernelspec": {
   "display_name": "persuasion_multi_domain",
   "language": "python",
   "name": "python3"
  },
  "language_info": {
   "codemirror_mode": {
    "name": "ipython",
    "version": 3
   },
   "file_extension": ".py",
   "mimetype": "text/x-python",
   "name": "python",
   "nbconvert_exporter": "python",
   "pygments_lexer": "ipython3",
   "version": "3.9.20"
  }
 },
 "nbformat": 4,
 "nbformat_minor": 2
}
